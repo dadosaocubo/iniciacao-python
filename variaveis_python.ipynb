{
  "nbformat": 4,
  "nbformat_minor": 0,
  "metadata": {
    "colab": {
      "provenance": []
    },
    "kernelspec": {
      "name": "python3",
      "display_name": "Python 3"
    },
    "language_info": {
      "name": "python"
    }
  },
  "cells": [
    {
      "cell_type": "markdown",
      "source": [
        "# Iniciação em Python – Começando do ZERO"
      ],
      "metadata": {
        "id": "GB8cRdsHB6Zi"
      }
    },
    {
      "cell_type": "markdown",
      "source": [
        "Fala galera do mundo dos dados! Quero trazer essa novidade para vocês! Na minha caminhada no mundo dos dados fiz um Ebook “Iniciação em Python – Começando do ZERO“, vou compartilhar com vocês em uma sequência de artigos divididos por assuntos, a cada semana um novo conteúdo para quem tá começando na linguagem de programação Python.\n",
        "\n",
        "* [Linguagem de Programação Python do Zero](https://dadosaocubo.com/linguagem-de-programacao-python-do-zero/)\n",
        "* [Conceitos Iniciais do Python](https://dadosaocubo.com/conceitos-iniciais-do-python/)\n",
        "* [Variáveis em Python](https://dadosaocubo.com/variaveis-em-python/)\n",
        "* [Estruturas de Dados em Python](https://dadosaocubo.com/estruturas-de-dados-em-python/)\n",
        "* [Condicionais em Python](https://dadosaocubo.com/condicionais-em-python/)\n",
        "* [Loops em Python](https://dadosaocubo.com/loops-em-python/)\n",
        "* [Funções em Python](https://dadosaocubo.com/funcoes-em-python/)\n",
        "* [Trabalhar com Arquivo de Texto em Python](https://dadosaocubo.com/trabalhar-com-arquivo-de-texto-em-python/)"
      ],
      "metadata": {
        "id": "Hccvb9iTCMza"
      }
    },
    {
      "cell_type": "markdown",
      "source": [
        "## Variáveis em Python"
      ],
      "metadata": {
        "id": "bakOQqqBCI19"
      }
    },
    {
      "cell_type": "markdown",
      "source": [
        "## Variáveis Numéricas no Python"
      ],
      "metadata": {
        "id": "XWikEW9kJBFv"
      }
    },
    {
      "cell_type": "code",
      "source": [
        "# Atribui um valor na variável a\n",
        "a = 5\n",
        "# Atribui um valor na variável b\n",
        "b = 2"
      ],
      "metadata": {
        "id": "kUfOLCLRJCvO"
      },
      "execution_count": 35,
      "outputs": []
    },
    {
      "cell_type": "code",
      "source": [
        "# Imprime o valor da soma a + b\n",
        "print('A soma é', a + b)"
      ],
      "metadata": {
        "colab": {
          "base_uri": "https://localhost:8080/"
        },
        "id": "ru4iow9mHrlI",
        "outputId": "774838f2-8406-4345-a3c2-4d36c543f5fe"
      },
      "execution_count": 36,
      "outputs": [
        {
          "output_type": "stream",
          "name": "stdout",
          "text": [
            "A soma é 7\n"
          ]
        }
      ]
    },
    {
      "cell_type": "code",
      "source": [
        "#  Imprime o valor da diferença b - a\n",
        "print  ('A diferença é', b - a)"
      ],
      "metadata": {
        "colab": {
          "base_uri": "https://localhost:8080/"
        },
        "id": "L9QRte7XHrhL",
        "outputId": "461ebeb3-80a9-4c3a-f09d-5f9dc5ae0fda"
      },
      "execution_count": 37,
      "outputs": [
        {
          "output_type": "stream",
          "name": "stdout",
          "text": [
            "A diferença é -3\n"
          ]
        }
      ]
    },
    {
      "cell_type": "code",
      "source": [
        "# Imprime o valor da multiplicação a * b\n",
        "print ( 'A multiplicação é', a * b )"
      ],
      "metadata": {
        "colab": {
          "base_uri": "https://localhost:8080/"
        },
        "id": "H2dWv9EzHreO",
        "outputId": "ec2aa7cf-b4f4-4e42-9965-a2491d1b6cbe"
      },
      "execution_count": 38,
      "outputs": [
        {
          "output_type": "stream",
          "name": "stdout",
          "text": [
            "A multiplicação é 10\n"
          ]
        }
      ]
    },
    {
      "cell_type": "code",
      "source": [
        "# Imprime o valor da divisão a / b\n",
        "print ( 'A divisão é', a / b )"
      ],
      "metadata": {
        "colab": {
          "base_uri": "https://localhost:8080/"
        },
        "id": "PtrLSjLVHrbB",
        "outputId": "34301a15-da90-4187-cb9b-f88d4fa08254"
      },
      "execution_count": 39,
      "outputs": [
        {
          "output_type": "stream",
          "name": "stdout",
          "text": [
            "A divisão é 2.5\n"
          ]
        }
      ]
    },
    {
      "cell_type": "code",
      "source": [
        "# Imprime o valor da divisão inteira a // b\n",
        "print ( 'A divisão inteira é', a // b )"
      ],
      "metadata": {
        "colab": {
          "base_uri": "https://localhost:8080/"
        },
        "id": "JcX8dJ2iHrYB",
        "outputId": "d4156787-6972-462e-ec52-fb2278deb4ca"
      },
      "execution_count": 40,
      "outputs": [
        {
          "output_type": "stream",
          "name": "stdout",
          "text": [
            "A divisão inteira é 2\n"
          ]
        }
      ]
    },
    {
      "cell_type": "code",
      "source": [
        "# Imprime o valor da potenciação a ** b\n",
        "print ( 'A potenciação é', a ** b )"
      ],
      "metadata": {
        "colab": {
          "base_uri": "https://localhost:8080/"
        },
        "id": "tGi67peDHrVD",
        "outputId": "1ec87459-5ea5-4e00-9401-d2cdedb5bb15"
      },
      "execution_count": 41,
      "outputs": [
        {
          "output_type": "stream",
          "name": "stdout",
          "text": [
            "A potenciação é 25\n"
          ]
        }
      ]
    },
    {
      "cell_type": "code",
      "source": [
        "# Imprime o resto a % b\n",
        "print ( 'O resto é', a % b )"
      ],
      "metadata": {
        "colab": {
          "base_uri": "https://localhost:8080/"
        },
        "id": "Ydjn63ZMHrRu",
        "outputId": "cb33bed2-1a59-45b7-c885-c23462f0e48b"
      },
      "execution_count": 42,
      "outputs": [
        {
          "output_type": "stream",
          "name": "stdout",
          "text": [
            "O resto é 1\n"
          ]
        }
      ]
    },
    {
      "cell_type": "code",
      "source": [
        "# Imprime o resultado\n",
        "print ( 'a é igual a b?', a == b )"
      ],
      "metadata": {
        "colab": {
          "base_uri": "https://localhost:8080/"
        },
        "id": "v6HGU4shH_6a",
        "outputId": "c5ada56b-2697-439f-c802-67b5c544c862"
      },
      "execution_count": 43,
      "outputs": [
        {
          "output_type": "stream",
          "name": "stdout",
          "text": [
            "a é igual a b? False\n"
          ]
        }
      ]
    },
    {
      "cell_type": "code",
      "source": [
        "# Imprime o resultado\n",
        "print ( 'a é diferente de b?', a != b )"
      ],
      "metadata": {
        "colab": {
          "base_uri": "https://localhost:8080/"
        },
        "id": "sNEmL4a7H_9V",
        "outputId": "bb0eb965-8ad6-4002-d906-9ac908244bd0"
      },
      "execution_count": 44,
      "outputs": [
        {
          "output_type": "stream",
          "name": "stdout",
          "text": [
            "a é diferente de b? True\n"
          ]
        }
      ]
    },
    {
      "cell_type": "code",
      "source": [
        "# Imprime o resultado\n",
        "print ( 'a é maior que b?', a > b )"
      ],
      "metadata": {
        "colab": {
          "base_uri": "https://localhost:8080/"
        },
        "id": "4-9-iBuOIAAV",
        "outputId": "92629d28-0a2f-40cc-8d85-8071fc501a72"
      },
      "execution_count": 45,
      "outputs": [
        {
          "output_type": "stream",
          "name": "stdout",
          "text": [
            "a é maior que b? True\n"
          ]
        }
      ]
    },
    {
      "cell_type": "code",
      "source": [
        "# Imprime o resultado\n",
        "print ( 'a é menor que b?', a < b )"
      ],
      "metadata": {
        "colab": {
          "base_uri": "https://localhost:8080/"
        },
        "id": "X0Mk8v1UIADj",
        "outputId": "a4fdab6d-33ef-4d1b-d437-6f01ff392968"
      },
      "execution_count": 46,
      "outputs": [
        {
          "output_type": "stream",
          "name": "stdout",
          "text": [
            "a é menor que b? False\n"
          ]
        }
      ]
    },
    {
      "cell_type": "code",
      "source": [
        "# Imprime o resultado\n",
        "print ( 'a é maior ou igual a b?', a >= b )"
      ],
      "metadata": {
        "colab": {
          "base_uri": "https://localhost:8080/"
        },
        "id": "QlmbHLZVIAGT",
        "outputId": "85053ea0-72bc-4006-ca69-adbda1f26fb0"
      },
      "execution_count": 47,
      "outputs": [
        {
          "output_type": "stream",
          "name": "stdout",
          "text": [
            "a é maior ou igual a b? True\n"
          ]
        }
      ]
    },
    {
      "cell_type": "code",
      "source": [
        "# Imprime o resultado\n",
        "print ( 'a é menor ou igual a b?', a <= b )"
      ],
      "metadata": {
        "colab": {
          "base_uri": "https://localhost:8080/"
        },
        "id": "pYr9tlqPIAJI",
        "outputId": "f4f189fc-2b1c-4612-b7ce-8f9c84784f2a"
      },
      "execution_count": 48,
      "outputs": [
        {
          "output_type": "stream",
          "name": "stdout",
          "text": [
            "a é menor ou igual a b? False\n"
          ]
        }
      ]
    },
    {
      "cell_type": "markdown",
      "source": [
        "## Variáveis Booleanos no Python"
      ],
      "metadata": {
        "id": "zk6F7yT_I4to"
      }
    },
    {
      "cell_type": "code",
      "source": [
        "# Atribui um valor boleano na variável a\n",
        "a = True\n",
        "# Atribui um valor boleano na variável b\n",
        "b = False"
      ],
      "metadata": {
        "id": "xH94HzQoI6BG"
      },
      "execution_count": 49,
      "outputs": []
    },
    {
      "cell_type": "code",
      "source": [
        "# Imprime o resultado\n",
        "print( 'Valor de a and b:', a and b )"
      ],
      "metadata": {
        "colab": {
          "base_uri": "https://localhost:8080/"
        },
        "id": "b6dAY23HIAMR",
        "outputId": "73ad1c22-b92f-4caf-c421-d4ac38a342bf"
      },
      "execution_count": 50,
      "outputs": [
        {
          "output_type": "stream",
          "name": "stdout",
          "text": [
            "Valor de a and b: False\n"
          ]
        }
      ]
    },
    {
      "cell_type": "code",
      "source": [
        "# Imprime o resultado\n",
        "print( 'Valor de a ou b:', a or b )"
      ],
      "metadata": {
        "colab": {
          "base_uri": "https://localhost:8080/"
        },
        "id": "UvsF2dLxIAPn",
        "outputId": "f2567e9d-f241-439c-8b97-1b4af6fece08"
      },
      "execution_count": 51,
      "outputs": [
        {
          "output_type": "stream",
          "name": "stdout",
          "text": [
            "Valor de a ou b: True\n"
          ]
        }
      ]
    },
    {
      "cell_type": "code",
      "source": [
        "# Imprime o resultado\n",
        "print( 'Valor de not a:', not a )"
      ],
      "metadata": {
        "colab": {
          "base_uri": "https://localhost:8080/"
        },
        "id": "iPfCfUVKIAS-",
        "outputId": "f45bcfa1-bff1-431b-c679-5a5b65057ce0"
      },
      "execution_count": 52,
      "outputs": [
        {
          "output_type": "stream",
          "name": "stdout",
          "text": [
            "Valor de not a: False\n"
          ]
        }
      ]
    },
    {
      "cell_type": "markdown",
      "source": [
        "## Variáveis do tipo Strings no Python"
      ],
      "metadata": {
        "id": "iXpd6qkiImQq"
      }
    },
    {
      "cell_type": "code",
      "source": [
        "# Criando uma string\n",
        "exemplo = 'Iniciação em Python'"
      ],
      "metadata": {
        "id": "iBg8WQYrIS6x"
      },
      "execution_count": 53,
      "outputs": []
    },
    {
      "cell_type": "code",
      "source": [
        "# Contagem do tamanho da string\n",
        "len(exemplo)"
      ],
      "metadata": {
        "colab": {
          "base_uri": "https://localhost:8080/"
        },
        "id": "iohRtJrRInme",
        "outputId": "32985b16-0010-46c8-8d1b-9969cb68dac8"
      },
      "execution_count": 54,
      "outputs": [
        {
          "output_type": "execute_result",
          "data": {
            "text/plain": [
              "19"
            ]
          },
          "metadata": {},
          "execution_count": 54
        }
      ]
    },
    {
      "cell_type": "code",
      "source": [
        "# Substituindo palavras\n",
        "dif = exemplo.replace('em', 'com')\n",
        "# Imprime a nova string\n",
        "print( dif )"
      ],
      "metadata": {
        "colab": {
          "base_uri": "https://localhost:8080/"
        },
        "id": "Z80w7yjNIS28",
        "outputId": "8807d109-e1a1-427b-c3bf-d5e975f46ef9"
      },
      "execution_count": 55,
      "outputs": [
        {
          "output_type": "stream",
          "name": "stdout",
          "text": [
            "Iniciação com Python\n"
          ]
        }
      ]
    },
    {
      "cell_type": "code",
      "source": [
        "# Contagem do carácter i\n",
        "exemplo.count('i')"
      ],
      "metadata": {
        "colab": {
          "base_uri": "https://localhost:8080/"
        },
        "id": "xyyEmR_sISzz",
        "outputId": "26a042c6-0cfa-4836-d8ee-22ae446ac10f"
      },
      "execution_count": 56,
      "outputs": [
        {
          "output_type": "execute_result",
          "data": {
            "text/plain": [
              "2"
            ]
          },
          "metadata": {},
          "execution_count": 56
        }
      ]
    },
    {
      "cell_type": "code",
      "source": [
        "# Separando um string\n",
        "exemplo.split()"
      ],
      "metadata": {
        "colab": {
          "base_uri": "https://localhost:8080/"
        },
        "id": "5ms_UzYfISw-",
        "outputId": "23193794-b1a7-487c-81c5-94d0300b034c"
      },
      "execution_count": 57,
      "outputs": [
        {
          "output_type": "execute_result",
          "data": {
            "text/plain": [
              "['Iniciação', 'em', 'Python']"
            ]
          },
          "metadata": {},
          "execution_count": 57
        }
      ]
    },
    {
      "cell_type": "code",
      "source": [
        "# Separando uma string\n",
        "separa = exemplo.split()\n",
        "# Imprimindo a string separa\n",
        "print(separa)\n",
        "# Juntando as strings mais o\n",
        "junta = ' '.join(separa)\n",
        "# Imprime a string junta\n",
        "print(junta)"
      ],
      "metadata": {
        "colab": {
          "base_uri": "https://localhost:8080/"
        },
        "id": "4GPcGpL9ISt7",
        "outputId": "35189566-bc73-41e3-8168-b377614b9072"
      },
      "execution_count": 58,
      "outputs": [
        {
          "output_type": "stream",
          "name": "stdout",
          "text": [
            "['Iniciação', 'em', 'Python']\n",
            "Iniciação em Python\n"
          ]
        }
      ]
    },
    {
      "cell_type": "code",
      "source": [
        "# Imprime tudo maiúsculo\n",
        "print(exemplo.upper())\n",
        "# Imprime tudo minúsculo\n",
        "print(exemplo.lower())\n",
        "# Imprime apenas a primeira letra maiúsculo\n",
        "print(exemplo.capitalize())\n",
        "# Imprime a primeira letra de cada palavra maiúsculo\n",
        "print(exemplo.title())\n",
        "# Imprime o que for maiúsculo vira minúsculo e vice-versa\n",
        "print(exemplo.swapcase())"
      ],
      "metadata": {
        "colab": {
          "base_uri": "https://localhost:8080/"
        },
        "id": "f6VByiDSISrH",
        "outputId": "12548cd9-2f5c-42bf-a54e-78d09f2f2552"
      },
      "execution_count": 59,
      "outputs": [
        {
          "output_type": "stream",
          "name": "stdout",
          "text": [
            "INICIAÇÃO EM PYTHON\n",
            "iniciação em python\n",
            "Iniciação em python\n",
            "Iniciação Em Python\n",
            "iNICIAÇÃO EM pYTHON\n"
          ]
        }
      ]
    },
    {
      "cell_type": "code",
      "source": [
        "# Importa biblioteca de expressão regulares\n",
        "import re"
      ],
      "metadata": {
        "id": "TXNO6vX0IvFQ"
      },
      "execution_count": 60,
      "outputs": []
    },
    {
      "cell_type": "code",
      "source": [
        "# String a ser verificada\n",
        "a = 'abcdefabcdefabcdefabcdef'\n",
        "# String que desejo encontrar\n",
        "b = 'de'"
      ],
      "metadata": {
        "id": "fkXgZCCCIzia"
      },
      "execution_count": 61,
      "outputs": []
    },
    {
      "cell_type": "code",
      "source": [
        "# Separa a string a quando encontrar a string b\n",
        "re.split( b, a )"
      ],
      "metadata": {
        "colab": {
          "base_uri": "https://localhost:8080/"
        },
        "id": "CO0KEdGIIe_W",
        "outputId": "d500e05f-c859-498a-d91a-960189c4325d"
      },
      "execution_count": 62,
      "outputs": [
        {
          "output_type": "execute_result",
          "data": {
            "text/plain": [
              "['abc', 'fabc', 'fabc', 'fabc', 'f']"
            ]
          },
          "metadata": {},
          "execution_count": 62
        }
      ]
    },
    {
      "cell_type": "code",
      "source": [
        "# Cria uma lista da string b, a quantidade de vezes que encontrar na string a\n",
        "re.findall( b, a )"
      ],
      "metadata": {
        "colab": {
          "base_uri": "https://localhost:8080/"
        },
        "id": "5R1HTtsMIe8X",
        "outputId": "e05614a4-9f7d-4abf-df93-765f667801ac"
      },
      "execution_count": 63,
      "outputs": [
        {
          "output_type": "execute_result",
          "data": {
            "text/plain": [
              "['de', 'de', 'de', 'de']"
            ]
          },
          "metadata": {},
          "execution_count": 63
        }
      ]
    },
    {
      "cell_type": "markdown",
      "source": [
        "## Conversão do Tipo da Variável em Python"
      ],
      "metadata": {
        "id": "Gu7OBgsKP-78"
      }
    },
    {
      "cell_type": "code",
      "source": [
        "# Cria uma variável inteira\n",
        "var_int = 10\n",
        "# Imprime o tipo da variável\n",
        "type(var_int)"
      ],
      "metadata": {
        "colab": {
          "base_uri": "https://localhost:8080/"
        },
        "id": "WPdqBmTiIe5Y",
        "outputId": "8fb50c23-b38f-4ec9-e071-e26f5c884ab6"
      },
      "execution_count": 64,
      "outputs": [
        {
          "output_type": "execute_result",
          "data": {
            "text/plain": [
              "int"
            ]
          },
          "metadata": {},
          "execution_count": 64
        }
      ]
    },
    {
      "cell_type": "code",
      "source": [
        "# Cria uma variável string a partir de outra inteira\n",
        "var_string = str(var_int)\n",
        "# Imprime o tipo da variável\n",
        "type(var_string)"
      ],
      "metadata": {
        "colab": {
          "base_uri": "https://localhost:8080/"
        },
        "id": "VI0r-04xIe2M",
        "outputId": "d4bf361d-6a60-48c3-cb5d-d90063449eb3"
      },
      "execution_count": 65,
      "outputs": [
        {
          "output_type": "execute_result",
          "data": {
            "text/plain": [
              "str"
            ]
          },
          "metadata": {},
          "execution_count": 65
        }
      ]
    },
    {
      "cell_type": "code",
      "source": [
        "# Cria uma variável float a partir de outra string\n",
        "var_float = float(var_string)\n",
        "# Imprime o tipo da variável\n",
        "type(var_float)"
      ],
      "metadata": {
        "colab": {
          "base_uri": "https://localhost:8080/"
        },
        "id": "UOfq7QeJIey2",
        "outputId": "29e1cf85-652f-46c6-936c-0c5bc39e59d7"
      },
      "execution_count": 66,
      "outputs": [
        {
          "output_type": "execute_result",
          "data": {
            "text/plain": [
              "float"
            ]
          },
          "metadata": {},
          "execution_count": 66
        }
      ]
    },
    {
      "cell_type": "code",
      "source": [
        "var_string = 'dez'\n",
        "# Cria uma variável float a partir de outra string\n",
        "var_float = float(var_string)\n",
        "# Imprime o tipo da variável\n",
        "type(var_float)"
      ],
      "metadata": {
        "colab": {
          "base_uri": "https://localhost:8080/",
          "height": 246
        },
        "id": "xuLhBUPpIev5",
        "outputId": "f773e3be-0a7a-4d65-e1c1-891805ffdba1"
      },
      "execution_count": 67,
      "outputs": [
        {
          "output_type": "error",
          "ename": "ValueError",
          "evalue": "ignored",
          "traceback": [
            "\u001b[0;31m---------------------------------------------------------------------------\u001b[0m",
            "\u001b[0;31mValueError\u001b[0m                                Traceback (most recent call last)",
            "\u001b[0;32m<ipython-input-67-269ef91de1d0>\u001b[0m in \u001b[0;36m<cell line: 3>\u001b[0;34m()\u001b[0m\n\u001b[1;32m      1\u001b[0m \u001b[0mvar_string\u001b[0m \u001b[0;34m=\u001b[0m \u001b[0;34m'dez'\u001b[0m\u001b[0;34m\u001b[0m\u001b[0;34m\u001b[0m\u001b[0m\n\u001b[1;32m      2\u001b[0m \u001b[0;31m# Cria uma variável float a partir de outra string\u001b[0m\u001b[0;34m\u001b[0m\u001b[0;34m\u001b[0m\u001b[0m\n\u001b[0;32m----> 3\u001b[0;31m \u001b[0mvar_float\u001b[0m \u001b[0;34m=\u001b[0m \u001b[0mfloat\u001b[0m\u001b[0;34m(\u001b[0m\u001b[0mvar_string\u001b[0m\u001b[0;34m)\u001b[0m\u001b[0;34m\u001b[0m\u001b[0;34m\u001b[0m\u001b[0m\n\u001b[0m\u001b[1;32m      4\u001b[0m \u001b[0;31m# Imprime o tipo da variável\u001b[0m\u001b[0;34m\u001b[0m\u001b[0;34m\u001b[0m\u001b[0m\n\u001b[1;32m      5\u001b[0m \u001b[0mtype\u001b[0m\u001b[0;34m(\u001b[0m\u001b[0mvar_float\u001b[0m\u001b[0;34m)\u001b[0m\u001b[0;34m\u001b[0m\u001b[0;34m\u001b[0m\u001b[0m\n",
            "\u001b[0;31mValueError\u001b[0m: could not convert string to float: 'dez'"
          ]
        }
      ]
    }
  ]
}