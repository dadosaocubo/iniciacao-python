{
  "nbformat": 4,
  "nbformat_minor": 0,
  "metadata": {
    "colab": {
      "provenance": []
    },
    "kernelspec": {
      "name": "python3",
      "display_name": "Python 3"
    },
    "language_info": {
      "name": "python"
    }
  },
  "cells": [
    {
      "cell_type": "markdown",
      "source": [
        "# Iniciação em Python – Começando do ZERO"
      ],
      "metadata": {
        "id": "GB8cRdsHB6Zi"
      }
    },
    {
      "cell_type": "markdown",
      "source": [
        "Fala galera do mundo dos dados! Quero trazer essa novidade para vocês! Na minha caminhada no mundo dos dados fiz um Ebook “Iniciação em Python – Começando do ZERO“, vou compartilhar com vocês em uma sequência de artigos divididos por assuntos, a cada semana um novo conteúdo para quem tá começando na linguagem de programação Python.\n",
        "\n",
        "* [Linguagem de Programação Python do Zero](https://dadosaocubo.com/linguagem-de-programacao-python-do-zero/)\n",
        "* [Conceitos Iniciais do Python](https://dadosaocubo.com/conceitos-iniciais-do-python/)\n",
        "* [Variáveis em Python](https://dadosaocubo.com/variaveis-em-python/)\n",
        "* [Estruturas de Dados em Python](https://dadosaocubo.com/estruturas-de-dados-em-python/)\n",
        "* [Condicionais em Python](https://dadosaocubo.com/condicionais-em-python/)\n",
        "* [Loops em Python](https://dadosaocubo.com/loops-em-python/)\n",
        "* [Funções em Python](https://dadosaocubo.com/funcoes-em-python/)\n",
        "* [Trabalhar com Arquivo de Texto em Python](https://dadosaocubo.com/trabalhar-com-arquivo-de-texto-em-python/)"
      ],
      "metadata": {
        "id": "Hccvb9iTCMza"
      }
    },
    {
      "cell_type": "markdown",
      "source": [
        "## EStrutas de Dados"
      ],
      "metadata": {
        "id": "bakOQqqBCI19"
      }
    },
    {
      "cell_type": "markdown",
      "source": [
        "### Listas"
      ],
      "metadata": {
        "id": "o1jZzMAGDaKe"
      }
    },
    {
      "cell_type": "code",
      "source": [
        "# Lista de strings\n",
        "animais = ['gato','tatu','rato','pato']"
      ],
      "metadata": {
        "id": "VdpG0W6sDj8j"
      },
      "execution_count": 1,
      "outputs": []
    },
    {
      "cell_type": "code",
      "source": [
        "# Imprime o primeiro elemento da lista\n",
        "print( animais[0] )"
      ],
      "metadata": {
        "colab": {
          "base_uri": "https://localhost:8080/"
        },
        "id": "zRcmC8pWDpLP",
        "outputId": "454d905f-e715-4af3-bc62-cd2ee9b2130c"
      },
      "execution_count": 2,
      "outputs": [
        {
          "output_type": "stream",
          "name": "stdout",
          "text": [
            "gato\n"
          ]
        }
      ]
    },
    {
      "cell_type": "code",
      "source": [
        "# Imprime o segundo elemento da lista\n",
        "print( animais[1] )"
      ],
      "metadata": {
        "colab": {
          "base_uri": "https://localhost:8080/"
        },
        "id": "dbPh_DV6DpPH",
        "outputId": "67097f37-7965-45ae-fbea-2c831acc975a"
      },
      "execution_count": 3,
      "outputs": [
        {
          "output_type": "stream",
          "name": "stdout",
          "text": [
            "tatu\n"
          ]
        }
      ]
    },
    {
      "cell_type": "code",
      "source": [
        "# Imprime o terceiro elemento da lista\n",
        "print( animais[2] )"
      ],
      "metadata": {
        "colab": {
          "base_uri": "https://localhost:8080/"
        },
        "id": "HmxwgPmoDpSU",
        "outputId": "233f3e9d-bab0-48b5-a014-474e92539395"
      },
      "execution_count": 4,
      "outputs": [
        {
          "output_type": "stream",
          "name": "stdout",
          "text": [
            "rato\n"
          ]
        }
      ]
    },
    {
      "cell_type": "code",
      "source": [
        "# Imprime o quarto elemento da lista\n",
        "print( animais[3] )"
      ],
      "metadata": {
        "colab": {
          "base_uri": "https://localhost:8080/"
        },
        "id": "NoEjf5cKDpVR",
        "outputId": "63c81785-5d22-465c-8f54-fec7d51dc522"
      },
      "execution_count": 5,
      "outputs": [
        {
          "output_type": "stream",
          "name": "stdout",
          "text": [
            "pato\n"
          ]
        }
      ]
    },
    {
      "cell_type": "code",
      "source": [
        "# Erro elemento inexistente\n",
        "print( animais[4] )"
      ],
      "metadata": {
        "colab": {
          "base_uri": "https://localhost:8080/",
          "height": 194
        },
        "id": "d0VMaeRzDpYy",
        "outputId": "2babd831-1afb-4f33-957d-de209720a3c1"
      },
      "execution_count": 7,
      "outputs": [
        {
          "output_type": "error",
          "ename": "IndexError",
          "evalue": "ignored",
          "traceback": [
            "\u001b[0;31m---------------------------------------------------------------------------\u001b[0m",
            "\u001b[0;31mIndexError\u001b[0m                                Traceback (most recent call last)",
            "\u001b[0;32m<ipython-input-7-48df24233303>\u001b[0m in \u001b[0;36m<cell line: 2>\u001b[0;34m()\u001b[0m\n\u001b[1;32m      1\u001b[0m \u001b[0;31m# Erro elemento inexistente\u001b[0m\u001b[0;34m\u001b[0m\u001b[0;34m\u001b[0m\u001b[0m\n\u001b[0;32m----> 2\u001b[0;31m \u001b[0mprint\u001b[0m\u001b[0;34m(\u001b[0m \u001b[0manimais\u001b[0m\u001b[0;34m[\u001b[0m\u001b[0;36m4\u001b[0m\u001b[0;34m]\u001b[0m \u001b[0;34m)\u001b[0m\u001b[0;34m\u001b[0m\u001b[0;34m\u001b[0m\u001b[0m\n\u001b[0m",
            "\u001b[0;31mIndexError\u001b[0m: list index out of range"
          ]
        }
      ]
    },
    {
      "cell_type": "code",
      "source": [
        "# Lista de valores\n",
        "notas = [0, 10.0, 7.0, 7.0, 8.0, 8.0]\n",
        "# Imprime a soma das notas\n",
        "print( 'A soma das notas:', sum(notas) )"
      ],
      "metadata": {
        "colab": {
          "base_uri": "https://localhost:8080/"
        },
        "id": "GkHb0hVcEGXF",
        "outputId": "0741fb6d-a34a-46ed-b648-12f8f65e7c8e"
      },
      "execution_count": 8,
      "outputs": [
        {
          "output_type": "stream",
          "name": "stdout",
          "text": [
            "A soma das notas: 40.0\n"
          ]
        }
      ]
    },
    {
      "cell_type": "code",
      "source": [
        "# Lista de valores\n",
        "notas = [0, 10.0, 7.0, 7.0, 8.0, 8.0]\n",
        "# Insere o elemento da lista na posição 1\n",
        "notas.insert(1, 5.0)\n",
        "# Imprime a nova lista de notas\n",
        "print( notas )"
      ],
      "metadata": {
        "colab": {
          "base_uri": "https://localhost:8080/"
        },
        "id": "3_-NfHeQETwY",
        "outputId": "1ee851d5-b75e-4e65-bd11-7a720cbe8814"
      },
      "execution_count": 9,
      "outputs": [
        {
          "output_type": "stream",
          "name": "stdout",
          "text": [
            "[0, 5.0, 10.0, 7.0, 7.0, 8.0, 8.0]\n"
          ]
        }
      ]
    },
    {
      "cell_type": "code",
      "source": [
        "# Lista de valores\n",
        "notas = [0, 10.0, 7.0, 7.0, 8.0, 8.0]\n",
        "# Remove o primeiro elemento da lista\n",
        "notas.remove(0)\n",
        "# Imprime a nova lista de notas\n",
        "print( notas )"
      ],
      "metadata": {
        "colab": {
          "base_uri": "https://localhost:8080/"
        },
        "id": "6jkALae5ETz-",
        "outputId": "c7dae829-faca-4e92-fd72-4e5060007b48"
      },
      "execution_count": 10,
      "outputs": [
        {
          "output_type": "stream",
          "name": "stdout",
          "text": [
            "[10.0, 7.0, 7.0, 8.0, 8.0]\n"
          ]
        }
      ]
    },
    {
      "cell_type": "code",
      "source": [
        "# Lista de valores\n",
        "notas = [0, 10.0, 7.0, 7.0, 8.0, 8.0]\n",
        "# Imprime a maior nota da lista\n",
        "print( 'A maior nota:', max(notas) )\n",
        "# Imprime a menor nota da lista\n",
        "print( 'A menor nota:', min(notas) )"
      ],
      "metadata": {
        "colab": {
          "base_uri": "https://localhost:8080/"
        },
        "id": "vPjcfGRYET3N",
        "outputId": "99410f6d-7985-475a-e795-b66ff7a9c526"
      },
      "execution_count": 11,
      "outputs": [
        {
          "output_type": "stream",
          "name": "stdout",
          "text": [
            "A maior nota: 10.0\n",
            "A menor nota: 0\n"
          ]
        }
      ]
    },
    {
      "cell_type": "code",
      "source": [
        "# Lista de valores\n",
        "notas = [0, 10.0, 7.0, 7.0, 8.0, 8.0]\n",
        "# Ordena a lista\n",
        "notas.sort()\n",
        "# Imprime a nova lista de notas\n",
        "print( notas )"
      ],
      "metadata": {
        "colab": {
          "base_uri": "https://localhost:8080/"
        },
        "id": "BvKCob4cET6N",
        "outputId": "ce6da128-9692-4c8c-a8c6-6bbedb95b0b8"
      },
      "execution_count": 12,
      "outputs": [
        {
          "output_type": "stream",
          "name": "stdout",
          "text": [
            "[0, 7.0, 7.0, 8.0, 8.0, 10.0]\n"
          ]
        }
      ]
    },
    {
      "cell_type": "code",
      "source": [
        "# Lista de strings\n",
        "animais = ['gato','tatu','rato','pato']\n",
        "# Ordena a lista com outra função\n",
        "sorted( animais )"
      ],
      "metadata": {
        "colab": {
          "base_uri": "https://localhost:8080/"
        },
        "id": "b9W1WBW5Kf0g",
        "outputId": "47cf5eb4-d774-4736-ff98-c1c421040d1e"
      },
      "execution_count": 13,
      "outputs": [
        {
          "output_type": "execute_result",
          "data": {
            "text/plain": [
              "['gato', 'pato', 'rato', 'tatu']"
            ]
          },
          "metadata": {},
          "execution_count": 13
        }
      ]
    },
    {
      "cell_type": "code",
      "source": [
        "# Lista de valores\n",
        "notas = [0, 10.0, 7.0, 7.0, 8.0, 8.0]\n",
        "# Insere na lista\n",
        "notas.append(6.0)\n",
        "# Imprime a nova lista de notas\n",
        "print( notas )"
      ],
      "metadata": {
        "colab": {
          "base_uri": "https://localhost:8080/"
        },
        "id": "Yg6hel3IET9L",
        "outputId": "eab71df4-8930-4430-cb11-0c2ed966974a"
      },
      "execution_count": 14,
      "outputs": [
        {
          "output_type": "stream",
          "name": "stdout",
          "text": [
            "[0, 10.0, 7.0, 7.0, 8.0, 8.0, 6.0]\n"
          ]
        }
      ]
    },
    {
      "cell_type": "code",
      "source": [
        "# Lista de valores\n",
        "notas = [0, 10.0, 7.0, 7.0, 8.0, 8.0]\n",
        "# Lista de strings\n",
        "animais = ['gato','tatu','rato','pato']\n",
        "# Mescla as listas\n",
        "notas.extend(animais)\n",
        "# Imprime a nova lista de notas\n",
        "print( notas )"
      ],
      "metadata": {
        "colab": {
          "base_uri": "https://localhost:8080/"
        },
        "id": "q39UWrflEUAY",
        "outputId": "ee488c35-97b9-4cee-b071-abf478b361de"
      },
      "execution_count": 15,
      "outputs": [
        {
          "output_type": "stream",
          "name": "stdout",
          "text": [
            "[0, 10.0, 7.0, 7.0, 8.0, 8.0, 'gato', 'tatu', 'rato', 'pato']\n"
          ]
        }
      ]
    },
    {
      "cell_type": "code",
      "source": [
        "# Soma listas\n",
        "exemplo = ['z', 'y'] + ['x',]\n",
        "# Imprime a lista após a soma\n",
        "print( exemplo )"
      ],
      "metadata": {
        "colab": {
          "base_uri": "https://localhost:8080/"
        },
        "id": "-RRMk9m3EUHY",
        "outputId": "110a2698-5d9d-44f4-dff4-9a827a293e25"
      },
      "execution_count": 16,
      "outputs": [
        {
          "output_type": "stream",
          "name": "stdout",
          "text": [
            "['z', 'y', 'x']\n"
          ]
        }
      ]
    },
    {
      "cell_type": "code",
      "source": [
        "# Soma listas\n",
        "exemplo += [3,]\n",
        "# Imprime a lista após a nova soma\n",
        "print( exemplo )"
      ],
      "metadata": {
        "colab": {
          "base_uri": "https://localhost:8080/"
        },
        "id": "assm8X9EKnNg",
        "outputId": "adf1caad-f4ac-4021-ba82-f1028a16ecae"
      },
      "execution_count": 17,
      "outputs": [
        {
          "output_type": "stream",
          "name": "stdout",
          "text": [
            "['z', 'y', 'x', 3]\n"
          ]
        }
      ]
    },
    {
      "cell_type": "code",
      "source": [
        "# Retorna Multiplicação da lista\n",
        "print( exemplo * 2 )"
      ],
      "metadata": {
        "colab": {
          "base_uri": "https://localhost:8080/"
        },
        "id": "wYx5EYMFKnAM",
        "outputId": "c32add25-af89-4629-ab7c-69c1b407215a"
      },
      "execution_count": 18,
      "outputs": [
        {
          "output_type": "stream",
          "name": "stdout",
          "text": [
            "['z', 'y', 'x', 3, 'z', 'y', 'x', 3]\n"
          ]
        }
      ]
    },
    {
      "cell_type": "markdown",
      "source": [
        "### Tuplas"
      ],
      "metadata": {
        "id": "ZSzoYIdiDb3F"
      }
    },
    {
      "cell_type": "code",
      "source": [
        "# Tupla de strings\n",
        "exemplo = ('a', 'b', 'c', 'd', 'e')"
      ],
      "metadata": {
        "id": "gvXE6pwQDkhd"
      },
      "execution_count": 19,
      "outputs": []
    },
    {
      "cell_type": "code",
      "source": [
        "# procura o elemento b na tupla\n",
        "'b' in exemplo"
      ],
      "metadata": {
        "colab": {
          "base_uri": "https://localhost:8080/"
        },
        "id": "i7yhqLUnFzO2",
        "outputId": "aaa750e3-2901-451d-a0ad-ac4a77908949"
      },
      "execution_count": 20,
      "outputs": [
        {
          "output_type": "execute_result",
          "data": {
            "text/plain": [
              "True"
            ]
          },
          "metadata": {},
          "execution_count": 20
        }
      ]
    },
    {
      "cell_type": "code",
      "source": [
        "# procura o elemento f na tupla\n",
        "'f' in exemplo"
      ],
      "metadata": {
        "colab": {
          "base_uri": "https://localhost:8080/"
        },
        "id": "SvxuALG3F0tE",
        "outputId": "785a10d0-d112-4be3-c6bf-3c4307caf18a"
      },
      "execution_count": 21,
      "outputs": [
        {
          "output_type": "execute_result",
          "data": {
            "text/plain": [
              "False"
            ]
          },
          "metadata": {},
          "execution_count": 21
        }
      ]
    },
    {
      "cell_type": "code",
      "source": [
        "# Tupla de strings\n",
        "exemplo = ('a', 'b', 'c', 'd', 'e')"
      ],
      "metadata": {
        "id": "2hPh1WPPDqBN"
      },
      "execution_count": 22,
      "outputs": []
    },
    {
      "cell_type": "code",
      "source": [
        "# Retorna elementos do índice 1 até o índice 2 na\n",
        "print(exemplo[1:3])"
      ],
      "metadata": {
        "colab": {
          "base_uri": "https://localhost:8080/"
        },
        "id": "tSzkSWwhGS_N",
        "outputId": "d93b85f5-1915-4f00-f700-d670e512169f"
      },
      "execution_count": 23,
      "outputs": [
        {
          "output_type": "stream",
          "name": "stdout",
          "text": [
            "('b', 'c')\n"
          ]
        }
      ]
    },
    {
      "cell_type": "code",
      "source": [
        "# Retorna elementos do inicio até o índice 2 na\n",
        "print(exemplo[:3])"
      ],
      "metadata": {
        "colab": {
          "base_uri": "https://localhost:8080/"
        },
        "id": "VS8J2I_AGS60",
        "outputId": "8ac39e37-b926-4eff-859b-d300b71123ba"
      },
      "execution_count": 24,
      "outputs": [
        {
          "output_type": "stream",
          "name": "stdout",
          "text": [
            "('a', 'b', 'c')\n"
          ]
        }
      ]
    },
    {
      "cell_type": "code",
      "source": [
        "# Retorna elementos do índice 3 até o final na tupla\n",
        "print(exemplo[3:])"
      ],
      "metadata": {
        "colab": {
          "base_uri": "https://localhost:8080/"
        },
        "id": "-xSgzDG1GSx4",
        "outputId": "215eb357-7b93-44e3-e118-66932c5847ce"
      },
      "execution_count": 25,
      "outputs": [
        {
          "output_type": "stream",
          "name": "stdout",
          "text": [
            "('d', 'e')\n"
          ]
        }
      ]
    },
    {
      "cell_type": "code",
      "source": [
        "# Tupla de strings\n",
        "exemplo = ('a', 'b', 'c', 'a', 'e')\n",
        "# Retorna a posição da primeira ocorrência do elemento a na tupla\n",
        "print( 'O primeiro elemento a esta na posição:', exemplo.index('a') )\n",
        "# Retorna a quantidade do elemento a na tupla\n",
        "print( 'O quantidade do elemento a é:', exemplo.count('a') )"
      ],
      "metadata": {
        "colab": {
          "base_uri": "https://localhost:8080/"
        },
        "id": "KaoFMieaDqEj",
        "outputId": "022cc0c7-ca0f-46d7-fa51-61813844d096"
      },
      "execution_count": 26,
      "outputs": [
        {
          "output_type": "stream",
          "name": "stdout",
          "text": [
            "O primeiro elemento a esta na posição: 0\n",
            "O quantidade do elemento a é: 2\n"
          ]
        }
      ]
    },
    {
      "cell_type": "code",
      "source": [
        "# Soma tuplas\n",
        "exemplo = ('z', 'y') + ('x',)\n",
        "# Imprime a tupla após a soma\n",
        "print( exemplo )"
      ],
      "metadata": {
        "colab": {
          "base_uri": "https://localhost:8080/"
        },
        "id": "52sUaWQqDqHW",
        "outputId": "abf48263-1f73-4e6b-a4c5-cf93319e040e"
      },
      "execution_count": 27,
      "outputs": [
        {
          "output_type": "stream",
          "name": "stdout",
          "text": [
            "('z', 'y', 'x')\n"
          ]
        }
      ]
    },
    {
      "cell_type": "code",
      "source": [
        "# Soma tuplas\n",
        "exemplo += (3,)\n",
        "# Imprime a tupla após a nova soma\n",
        "print( exemplo )"
      ],
      "metadata": {
        "colab": {
          "base_uri": "https://localhost:8080/"
        },
        "id": "VJe0Sl8rG0-J",
        "outputId": "635beaa8-dfbc-4114-f5e1-0ffa9bb80493"
      },
      "execution_count": 28,
      "outputs": [
        {
          "output_type": "stream",
          "name": "stdout",
          "text": [
            "('z', 'y', 'x', 3)\n"
          ]
        }
      ]
    },
    {
      "cell_type": "code",
      "source": [
        "# Retorna multiplicação da tupla\n",
        "print( exemplo * 2  )"
      ],
      "metadata": {
        "colab": {
          "base_uri": "https://localhost:8080/"
        },
        "id": "O-6aNKtMG02Q",
        "outputId": "ca3cfe21-8301-4882-bdc7-2c9c54f1aeed"
      },
      "execution_count": 29,
      "outputs": [
        {
          "output_type": "stream",
          "name": "stdout",
          "text": [
            "('z', 'y', 'x', 3, 'z', 'y', 'x', 3)\n"
          ]
        }
      ]
    },
    {
      "cell_type": "markdown",
      "source": [
        "### Dicionários"
      ],
      "metadata": {
        "id": "STbwJvaNDgdV"
      }
    },
    {
      "cell_type": "code",
      "source": [
        "# Cria o dicionário\n",
        "dic = { 'a' : 1, 'b' : 2, 'c' : 3 }\n",
        "# Imprime a quantidade de elementos do dicionário\n",
        "print( 'Tamanho do dicionário:', len(dic), 'elemento(s)' )"
      ],
      "metadata": {
        "colab": {
          "base_uri": "https://localhost:8080/"
        },
        "id": "utbDnlHlDk7g",
        "outputId": "50d557da-40f6-4822-9bc7-128c8c7d2cc4"
      },
      "execution_count": 30,
      "outputs": [
        {
          "output_type": "stream",
          "name": "stdout",
          "text": [
            "Tamanho do dicionário: 3 elemento(s)\n"
          ]
        }
      ]
    },
    {
      "cell_type": "code",
      "source": [
        "# Deleta o elementos do dicionário chave b\n",
        "del(dic['b'])\n",
        "# Imprime o novo dicionario\n",
        "print( 'Novo dicionário', dic )"
      ],
      "metadata": {
        "colab": {
          "base_uri": "https://localhost:8080/"
        },
        "id": "CVigas0nJgAS",
        "outputId": "3d665ff9-8c91-4f7c-ca15-33a99d2423f5"
      },
      "execution_count": 31,
      "outputs": [
        {
          "output_type": "stream",
          "name": "stdout",
          "text": [
            "Novo dicionário {'a': 1, 'c': 3}\n"
          ]
        }
      ]
    },
    {
      "cell_type": "code",
      "source": [
        "# Cria o dicionário\n",
        "dic = { 'a' : 1, 'b' : 2, 'c' : 3 }"
      ],
      "metadata": {
        "id": "y9fwg7tbDq3t"
      },
      "execution_count": 32,
      "outputs": []
    },
    {
      "cell_type": "code",
      "source": [
        "# Verifica se a chave a está no dicionário\n",
        "'a' in dic"
      ],
      "metadata": {
        "colab": {
          "base_uri": "https://localhost:8080/"
        },
        "id": "otfxKcDVJlA8",
        "outputId": "f028fa06-41b2-4649-f322-e28744035def"
      },
      "execution_count": 33,
      "outputs": [
        {
          "output_type": "execute_result",
          "data": {
            "text/plain": [
              "True"
            ]
          },
          "metadata": {},
          "execution_count": 33
        }
      ]
    },
    {
      "cell_type": "code",
      "source": [
        "# Verifica se a chave d não está no dicionário\n",
        "'d' not in dic"
      ],
      "metadata": {
        "colab": {
          "base_uri": "https://localhost:8080/"
        },
        "id": "CnL_6t2pJk5g",
        "outputId": "e8d39393-5a10-4888-e537-1f5b6a97654d"
      },
      "execution_count": 34,
      "outputs": [
        {
          "output_type": "execute_result",
          "data": {
            "text/plain": [
              "True"
            ]
          },
          "metadata": {},
          "execution_count": 34
        }
      ]
    },
    {
      "cell_type": "code",
      "source": [
        "# Cria o dicionário a\n",
        "a = { 'gato' : 2, 'pato' : 4 }\n",
        "# Cria o dicionário b\n",
        "b = { 'tatu' : 5, 'pato' : 4 }"
      ],
      "metadata": {
        "id": "ADNgTELuDq6h"
      },
      "execution_count": 35,
      "outputs": []
    },
    {
      "cell_type": "code",
      "source": [
        "# Imprime o novo dicionário a\n",
        "print( 'Dicionário a:', a )"
      ],
      "metadata": {
        "colab": {
          "base_uri": "https://localhost:8080/"
        },
        "id": "_41bYEfwJsz7",
        "outputId": "3816d9e8-46e1-4c9c-828a-cce3ec5621c6"
      },
      "execution_count": 36,
      "outputs": [
        {
          "output_type": "stream",
          "name": "stdout",
          "text": [
            "Dicionário a: {'gato': 2, 'pato': 4}\n"
          ]
        }
      ]
    },
    {
      "cell_type": "code",
      "source": [
        "# Mescla o dicionário b com o a\n",
        "a.update(b)\n",
        "# Imprime o dicionário b\n",
        "print( 'Dicionário b:', b )"
      ],
      "metadata": {
        "colab": {
          "base_uri": "https://localhost:8080/"
        },
        "id": "dhFCK9jdJvYS",
        "outputId": "61dc8f2c-13fe-4bab-8e18-e36a882cf50d"
      },
      "execution_count": 37,
      "outputs": [
        {
          "output_type": "stream",
          "name": "stdout",
          "text": [
            "Dicionário b: {'tatu': 5, 'pato': 4}\n"
          ]
        }
      ]
    },
    {
      "cell_type": "code",
      "source": [
        "# Cria o dicionário a\n",
        "a = { 'gato' : 2, 'pato' : 4, 'tatu' : 5 }"
      ],
      "metadata": {
        "id": "HwwBtTnVDq9f"
      },
      "execution_count": 38,
      "outputs": []
    },
    {
      "cell_type": "code",
      "source": [
        "# Retorna a lista de chaves do dicionário a\n",
        "a.keys()"
      ],
      "metadata": {
        "colab": {
          "base_uri": "https://localhost:8080/"
        },
        "id": "XR7RsO1yJ1nN",
        "outputId": "37897ba7-2237-4cc2-ed56-956682e07ada"
      },
      "execution_count": 39,
      "outputs": [
        {
          "output_type": "execute_result",
          "data": {
            "text/plain": [
              "dict_keys(['gato', 'pato', 'tatu'])"
            ]
          },
          "metadata": {},
          "execution_count": 39
        }
      ]
    },
    {
      "cell_type": "code",
      "source": [
        "# Retorna a lista de valores do dicionário a\n",
        "a.values()"
      ],
      "metadata": {
        "colab": {
          "base_uri": "https://localhost:8080/"
        },
        "id": "JwH1xGnlJ1Sn",
        "outputId": "8486e7dd-b480-47f9-cf8e-1d2640da17b8"
      },
      "execution_count": 40,
      "outputs": [
        {
          "output_type": "execute_result",
          "data": {
            "text/plain": [
              "dict_values([2, 4, 5])"
            ]
          },
          "metadata": {},
          "execution_count": 40
        }
      ]
    },
    {
      "cell_type": "code",
      "source": [
        "# Retorna a lista de tuplas(chave, valor) do dicionário a\n",
        "a.items()"
      ],
      "metadata": {
        "colab": {
          "base_uri": "https://localhost:8080/"
        },
        "id": "KsLf9yDCJ1KT",
        "outputId": "ba364aa9-1822-4cca-9bea-32e74c0bc236"
      },
      "execution_count": 41,
      "outputs": [
        {
          "output_type": "execute_result",
          "data": {
            "text/plain": [
              "dict_items([('gato', 2), ('pato', 4), ('tatu', 5)])"
            ]
          },
          "metadata": {},
          "execution_count": 41
        }
      ]
    },
    {
      "cell_type": "code",
      "source": [
        "# Cria a lista a\n",
        "a = { 'gato', 'pato', 'tatu' }\n",
        "# Cria a lista b\n",
        "b = { 2, 4, 5 }\n",
        "# Retorna um dicionário a como chave e b como valores\n",
        "dict( zip(a, b) )"
      ],
      "metadata": {
        "colab": {
          "base_uri": "https://localhost:8080/"
        },
        "id": "3VV8RiTYDrAe",
        "outputId": "b677cb33-e261-4ed8-dfaa-882de6acecd0"
      },
      "execution_count": 42,
      "outputs": [
        {
          "output_type": "execute_result",
          "data": {
            "text/plain": [
              "{'gato': 2, 'tatu': 4, 'pato': 5}"
            ]
          },
          "metadata": {},
          "execution_count": 42
        }
      ]
    },
    {
      "cell_type": "markdown",
      "source": [
        "### Conjuntos"
      ],
      "metadata": {
        "id": "F2PrGTI5DXtT"
      }
    },
    {
      "cell_type": "code",
      "execution_count": 43,
      "metadata": {
        "colab": {
          "base_uri": "https://localhost:8080/"
        },
        "id": "9Hgu4P3jwPiQ",
        "outputId": "cceaa23b-4bf0-47eb-85ce-9fc3b1f22e53"
      },
      "outputs": [
        {
          "output_type": "stream",
          "name": "stdout",
          "text": [
            "{'d', 'C', 'D', ' ', 'a', 's', 'b', 'o', 'u'}\n"
          ]
        }
      ],
      "source": [
        "# Cria o conjunto c1\n",
        "c1 = set('Dados ao Cubo')\n",
        "# Imprime o conjunto c1\n",
        "print(c1)"
      ]
    },
    {
      "cell_type": "code",
      "source": [
        "# Cria o conjunto c2\n",
        "c2 = set('Python')\n",
        "# Imprime o conjunto c2\n",
        "print(c2)"
      ],
      "metadata": {
        "colab": {
          "base_uri": "https://localhost:8080/"
        },
        "id": "UqQwW9Q3wRsr",
        "outputId": "e9229712-896f-4428-9ed4-e3e2c3ad497f"
      },
      "execution_count": 44,
      "outputs": [
        {
          "output_type": "stream",
          "name": "stdout",
          "text": [
            "{'h', 'P', 't', 'n', 'o', 'y'}\n"
          ]
        }
      ]
    },
    {
      "cell_type": "code",
      "source": [
        "# Diferença entre os conjuntos, letras que estão no c1 mas não no c2\n",
        "print(c1 - c2)"
      ],
      "metadata": {
        "colab": {
          "base_uri": "https://localhost:8080/"
        },
        "id": "O7Gm5EK8wRqE",
        "outputId": "86270017-f4b2-4389-9722-e7db16627821"
      },
      "execution_count": 45,
      "outputs": [
        {
          "output_type": "stream",
          "name": "stdout",
          "text": [
            "{'d', 'C', 'D', ' ', 'a', 's', 'b', 'u'}\n"
          ]
        }
      ]
    },
    {
      "cell_type": "code",
      "source": [
        "# Ou dos conjuntos, letras que estão em c1 ou c2\n",
        "print(c1 | c2)"
      ],
      "metadata": {
        "colab": {
          "base_uri": "https://localhost:8080/"
        },
        "id": "qZy5GvcjwRmx",
        "outputId": "0f59c4bf-7e4d-407f-d38a-2611e37a6d36"
      },
      "execution_count": 46,
      "outputs": [
        {
          "output_type": "stream",
          "name": "stdout",
          "text": [
            "{'h', 'd', 'C', 'P', 't', 'D', ' ', 'a', 's', 'b', 'n', 'o', 'u', 'y'}\n"
          ]
        }
      ]
    },
    {
      "cell_type": "code",
      "source": [
        "# Intersecção entre os conjuntos, letras que estão em ambos\n",
        "print(c1 & c2)"
      ],
      "metadata": {
        "colab": {
          "base_uri": "https://localhost:8080/"
        },
        "id": "cfJPz1ATwRjt",
        "outputId": "b392de32-ef54-4c0e-da79-eda8756d3087"
      },
      "execution_count": 47,
      "outputs": [
        {
          "output_type": "stream",
          "name": "stdout",
          "text": [
            "{'o'}\n"
          ]
        }
      ]
    },
    {
      "cell_type": "code",
      "source": [
        "# Diferença simétrica entre os conjuntos,\n",
        "# letras que estão em c1 ou c2, mas não em ambos\n",
        "print(c1 ^ c2)"
      ],
      "metadata": {
        "colab": {
          "base_uri": "https://localhost:8080/"
        },
        "id": "76QRo_AcwRhI",
        "outputId": "bd5826c6-a729-424a-d2c9-4714fd428faa"
      },
      "execution_count": 48,
      "outputs": [
        {
          "output_type": "stream",
          "name": "stdout",
          "text": [
            "{'h', 'd', 'P', 't', ' ', 's', 'y', 'C', 'D', 'n', 'a', 'b', 'u'}\n"
          ]
        }
      ]
    }
  ]
}