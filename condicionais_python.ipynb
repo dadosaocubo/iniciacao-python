{
  "nbformat": 4,
  "nbformat_minor": 0,
  "metadata": {
    "colab": {
      "provenance": []
    },
    "kernelspec": {
      "name": "python3",
      "display_name": "Python 3"
    },
    "language_info": {
      "name": "python"
    }
  },
  "cells": [
    {
      "cell_type": "markdown",
      "source": [
        "# Iniciação em Python – Começando do ZERO"
      ],
      "metadata": {
        "id": "GB8cRdsHB6Zi"
      }
    },
    {
      "cell_type": "markdown",
      "source": [
        "Fala galera do mundo dos dados! Quero trazer essa novidade para vocês! Na minha caminhada no mundo dos dados fiz um Ebook “Iniciação em Python – Começando do ZERO“, vou compartilhar com vocês em uma sequência de artigos divididos por assuntos, a cada semana um novo conteúdo para quem tá começando na linguagem de programação Python.\n",
        "\n",
        "* [Linguagem de Programação Python do Zero](https://dadosaocubo.com/linguagem-de-programacao-python-do-zero/)\n",
        "* [Conceitos Iniciais do Python](https://dadosaocubo.com/conceitos-iniciais-do-python/)\n",
        "* [Variáveis em Python](https://dadosaocubo.com/variaveis-em-python/)\n",
        "* [Estruturas de Dados em Python](https://dadosaocubo.com/estruturas-de-dados-em-python/)\n",
        "* [Condicionais em Python](https://dadosaocubo.com/condicionais-em-python/)\n",
        "* [Loops em Python](https://dadosaocubo.com/loops-em-python/)\n",
        "* [Funções em Python](https://dadosaocubo.com/funcoes-em-python/)\n",
        "* [Trabalhar com Arquivo de Texto em Python](https://dadosaocubo.com/trabalhar-com-arquivo-de-texto-em-python/)"
      ],
      "metadata": {
        "id": "Hccvb9iTCMza"
      }
    },
    {
      "cell_type": "markdown",
      "source": [
        "## Condicionais em Python"
      ],
      "metadata": {
        "id": "3MVWUt8BWszP"
      }
    },
    {
      "cell_type": "markdown",
      "source": [
        "### Condicional if"
      ],
      "metadata": {
        "id": "96OMhVKZWukQ"
      }
    },
    {
      "cell_type": "code",
      "source": [
        "# Atribui o valor 2 a variável a\n",
        "a = 2\n",
        "# Verifica a condição a maior que 0\n",
        "if a > 0:\n",
        "  # Imprime se a for maior que 0\n",
        "  print( 'Maior que ZERO' )"
      ],
      "metadata": {
        "colab": {
          "base_uri": "https://localhost:8080/"
        },
        "id": "Y8kYhGMHWsU1",
        "outputId": "9440821f-8a32-49e4-9600-8f932649acf7"
      },
      "execution_count": 48,
      "outputs": [
        {
          "output_type": "stream",
          "name": "stdout",
          "text": [
            "Maior que ZERO\n"
          ]
        }
      ]
    },
    {
      "cell_type": "code",
      "source": [
        "# Atribui o valor 0 a variável b\n",
        "b = 0\n",
        "# Verifica a condição b maior que 0\n",
        "if b > 0:\n",
        "  # Imprime se b for maior que 0\n",
        "  print( 'Maior que ZERO' )"
      ],
      "metadata": {
        "id": "KWenRdsSWsRb"
      },
      "execution_count": 49,
      "outputs": []
    },
    {
      "cell_type": "code",
      "source": [
        "# Verifica lógica if\n",
        "a > 0"
      ],
      "metadata": {
        "colab": {
          "base_uri": "https://localhost:8080/"
        },
        "id": "bELx8nd-YEcw",
        "outputId": "b6986f56-f3b8-401f-d5ca-070e70bfa7f5"
      },
      "execution_count": 50,
      "outputs": [
        {
          "output_type": "execute_result",
          "data": {
            "text/plain": [
              "True"
            ]
          },
          "metadata": {},
          "execution_count": 50
        }
      ]
    },
    {
      "cell_type": "code",
      "source": [
        "# Verifica lógica if\n",
        "b > 0"
      ],
      "metadata": {
        "colab": {
          "base_uri": "https://localhost:8080/"
        },
        "id": "Yn-g1TzOWsOY",
        "outputId": "eae8695f-347d-48b6-f4bf-9a4635ccfa75"
      },
      "execution_count": 51,
      "outputs": [
        {
          "output_type": "execute_result",
          "data": {
            "text/plain": [
              "False"
            ]
          },
          "metadata": {},
          "execution_count": 51
        }
      ]
    },
    {
      "cell_type": "markdown",
      "source": [
        "### Condicional if e else"
      ],
      "metadata": {
        "id": "6T6Waj9GW0x2"
      }
    },
    {
      "cell_type": "code",
      "source": [
        "# Atribui o valor 2 a variável a\n",
        "a = 2\n",
        "# Verifica a condição a maior que 0\n",
        "if a > 0:\n",
        "  # Imprime se a for maior que 0\n",
        "  print( 'Maior que ZERO' )\n",
        "# Verifica a condição diferente de a maior que 0\n",
        "else:\n",
        "  # Imprime se a for menor ou igual a 0\n",
        "  print( 'Menor ou igual ZERO' )"
      ],
      "metadata": {
        "colab": {
          "base_uri": "https://localhost:8080/"
        },
        "id": "KNl0UWLwWsHz",
        "outputId": "c80a677b-d849-4db1-9d4f-e95e934f225f"
      },
      "execution_count": 52,
      "outputs": [
        {
          "output_type": "stream",
          "name": "stdout",
          "text": [
            "Maior que ZERO\n"
          ]
        }
      ]
    },
    {
      "cell_type": "code",
      "source": [
        "# Agora subtrai 2 da variável a\n",
        "a = a - 2\n",
        "# Verifica a condição a maior que 0\n",
        "if a > 0:\n",
        "  # Imprime se a for maior que 0\n",
        "  print( 'Maior que ZERO' )\n",
        "# Verifica a condição diferente de a maior que 0\n",
        "else:\n",
        "  # Imprime se a for menor ou igual 0\n",
        "  print( 'Menor ou igual ZERO' )"
      ],
      "metadata": {
        "colab": {
          "base_uri": "https://localhost:8080/"
        },
        "id": "1jEJOszHWsE9",
        "outputId": "12eb6960-57bd-4075-ab1f-8a1199ee45f6"
      },
      "execution_count": 53,
      "outputs": [
        {
          "output_type": "stream",
          "name": "stdout",
          "text": [
            "Menor ou igual ZERO\n"
          ]
        }
      ]
    },
    {
      "cell_type": "code",
      "source": [
        "# Verifica lógica if\n",
        "a = 2\n",
        "a > 0"
      ],
      "metadata": {
        "colab": {
          "base_uri": "https://localhost:8080/"
        },
        "id": "5wtkn-TPZ2Dm",
        "outputId": "11f2a011-7207-4fab-e0db-37c6cbb280af"
      },
      "execution_count": 54,
      "outputs": [
        {
          "output_type": "execute_result",
          "data": {
            "text/plain": [
              "True"
            ]
          },
          "metadata": {},
          "execution_count": 54
        }
      ]
    },
    {
      "cell_type": "code",
      "source": [
        "# Verifica lógica else\n",
        "a = a - 2\n",
        "a > 0"
      ],
      "metadata": {
        "colab": {
          "base_uri": "https://localhost:8080/"
        },
        "id": "e10fNGnUZ8qc",
        "outputId": "bf3a40c3-656e-4383-cd07-947109bcb3ed"
      },
      "execution_count": 55,
      "outputs": [
        {
          "output_type": "execute_result",
          "data": {
            "text/plain": [
              "False"
            ]
          },
          "metadata": {},
          "execution_count": 55
        }
      ]
    },
    {
      "cell_type": "markdown",
      "source": [
        "### Condicional aninhado"
      ],
      "metadata": {
        "id": "kn9eXU0EW6_b"
      }
    },
    {
      "cell_type": "code",
      "source": [
        "# Atribui o valor 0 a variável a\n",
        "a = 1\n",
        "# Verifica a variável a maior que 0\n",
        "if a > 0:\n",
        "  # Imprime se a for maior que 0\n",
        "  print( 'Maior que ZERO' )\n",
        "# Verifica a variável a menor que 0\n",
        "elif a < 0:\n",
        "  # Imprime se a for menor que 0\n",
        "  print( 'Menor que ZERO' )\n",
        "# Verifica a variável a diferente de maior ou menor a 0, ou seja, igual a 0\n",
        "else:\n",
        "  # Imprime se a for igual a 0\n",
        "  print( 'Igual ZERO' )"
      ],
      "metadata": {
        "colab": {
          "base_uri": "https://localhost:8080/"
        },
        "id": "bEr2BZP5Wr5P",
        "outputId": "2cc16ba4-fb29-46b3-bf3c-a5e9324a18a4"
      },
      "execution_count": 56,
      "outputs": [
        {
          "output_type": "stream",
          "name": "stdout",
          "text": [
            "Maior que ZERO\n"
          ]
        }
      ]
    },
    {
      "cell_type": "code",
      "source": [
        "# Atribui o valor 0 a variável a\n",
        "a = -1\n",
        "# Verifica a variável a maior que 0\n",
        "if a > 0:\n",
        "  # Imprime se a for maior que 0\n",
        "  print( 'Maior que ZERO' )\n",
        "# Verifica a variável a menor que 0\n",
        "elif a < 0:\n",
        "  # Imprime se a for menor que 0\n",
        "  print( 'Menor que ZERO' )\n",
        "# Verifica a variável diferente de a maior ou menor a 0, ou seja, igual a 0\n",
        "else:\n",
        "  # Imprime se a for igual a 0\n",
        "  print( 'Igual ZERO' )"
      ],
      "metadata": {
        "colab": {
          "base_uri": "https://localhost:8080/"
        },
        "id": "gftkGw9eWr2B",
        "outputId": "b107f4fe-4c6d-47a5-f0b9-8e1bb565ad0c"
      },
      "execution_count": 57,
      "outputs": [
        {
          "output_type": "stream",
          "name": "stdout",
          "text": [
            "Menor que ZERO\n"
          ]
        }
      ]
    },
    {
      "cell_type": "code",
      "source": [
        "# Atribui o valor 0 a variável a\n",
        "a = 0\n",
        "# Verifica a variável a maior que 0\n",
        "if a > 0:\n",
        "  # Imprime se a for maior que 0\n",
        "  print( 'Maior que ZERO' )\n",
        "# Verifica a variável a menor que 0\n",
        "elif a < 0:\n",
        "  # Imprime se a for menor que 0\n",
        "  print( 'Menor que ZERO' )\n",
        "# Verifica a variável diferente de a maior ou menor a 0, ou seja, igual a 0\n",
        "else:\n",
        "  # Imprime se a for igual a 0\n",
        "  print( 'Igual ZERO' )"
      ],
      "metadata": {
        "colab": {
          "base_uri": "https://localhost:8080/"
        },
        "id": "7UbgKnkrWry3",
        "outputId": "6e17fe32-cb1a-41ec-cf9e-bba26e0d755a"
      },
      "execution_count": 58,
      "outputs": [
        {
          "output_type": "stream",
          "name": "stdout",
          "text": [
            "Igual ZERO\n"
          ]
        }
      ]
    },
    {
      "cell_type": "code",
      "source": [
        "# Verifica lógica if\n",
        "a = 1\n",
        "a > 0, a < 0, a == 0"
      ],
      "metadata": {
        "colab": {
          "base_uri": "https://localhost:8080/"
        },
        "id": "fz3_mNvvWrvx",
        "outputId": "55fd9cc1-e9d5-4923-d862-3e23e82a138a"
      },
      "execution_count": 59,
      "outputs": [
        {
          "output_type": "execute_result",
          "data": {
            "text/plain": [
              "(True, False, False)"
            ]
          },
          "metadata": {},
          "execution_count": 59
        }
      ]
    },
    {
      "cell_type": "code",
      "source": [
        "# Verifica lógica elif\n",
        "a = -1\n",
        "a > 0, a < 0, a == 0"
      ],
      "metadata": {
        "colab": {
          "base_uri": "https://localhost:8080/"
        },
        "id": "2bHilK2WaNov",
        "outputId": "c7120e3d-7f66-4352-ed80-58afb71d7f6c"
      },
      "execution_count": 60,
      "outputs": [
        {
          "output_type": "execute_result",
          "data": {
            "text/plain": [
              "(False, True, False)"
            ]
          },
          "metadata": {},
          "execution_count": 60
        }
      ]
    },
    {
      "cell_type": "code",
      "source": [
        "# Verifica lógica else\n",
        "a = 0\n",
        "a > 0, a < 0, a == 0"
      ],
      "metadata": {
        "colab": {
          "base_uri": "https://localhost:8080/"
        },
        "id": "4roi2ELyaNhZ",
        "outputId": "7228904e-5ece-4767-9588-84ef015bd546"
      },
      "execution_count": 61,
      "outputs": [
        {
          "output_type": "execute_result",
          "data": {
            "text/plain": [
              "(False, False, True)"
            ]
          },
          "metadata": {},
          "execution_count": 61
        }
      ]
    }
  ]
}